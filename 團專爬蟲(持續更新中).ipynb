{
  "nbformat": 4,
  "nbformat_minor": 0,
  "metadata": {
    "colab": {
      "name": "Untitled1.ipynb",
      "provenance": [],
      "collapsed_sections": [],
      "authorship_tag": "ABX9TyO4Rm4+PwACCgPGSgT89nWk",
      "include_colab_link": true
    },
    "kernelspec": {
      "name": "python3",
      "display_name": "Python 3"
    },
    "language_info": {
      "name": "python"
    }
  },
  "cells": [
    {
      "cell_type": "markdown",
      "metadata": {
        "id": "view-in-github",
        "colab_type": "text"
      },
      "source": [
        "<a href=\"https://colab.research.google.com/github/tangweien/Tales/blob/master/%E5%9C%98%E5%B0%88%E7%88%AC%E8%9F%B2(%E6%8C%81%E7%BA%8C%E6%9B%B4%E6%96%B0%E4%B8%AD).ipynb\" target=\"_parent\"><img src=\"https://colab.research.google.com/assets/colab-badge.svg\" alt=\"Open In Colab\"/></a>"
      ]
    },
    {
      "cell_type": "code",
      "metadata": {
        "id": "kxpF5sbVvVf8"
      },
      "source": [
        "# 這個只是單個店家印出評價 下面才是測試搜尋店家+印出評價 無法結合下面兩個 所以可能就..沒用處(網路上找的.印出單一標的物的評價)\n",
        "import requests \n",
        "import json\n",
        "p = 0\n",
        "while p <=3:\n",
        "    # 超連結\n",
        "    url = f\"https://www.google.com/maps/preview/review/listentitiesreviews?authuser=0&hl=zh-TW&gl=tw&pb=!1m2!1y3773258091363931747!2y2127068001886947614!2m2!1i{p}!2i10!3e1!4m5!3b1!4b1!5b1!6b1!7b1!5m2!1snaGLYZQB9OHaug_Wg5nYCA!7e81\"\n",
        "\n",
        "\n",
        "    # 發送get請求\n",
        "    text = requests.get(url).text\n",
        "    # 取代掉特殊字元，這個字元是為了資訊安全而設定的喔。\n",
        "    pretext = ')]}\\''\n",
        "    text = text.replace(pretext,'')\n",
        "    # 把字串讀取成json\n",
        "    soup = json.loads(text)\n",
        "    # 取出包含留言的List 。\n",
        "    conlist = soup[2]\n",
        "    # 逐筆抓出\n",
        "    for i in conlist:\n",
        "        print(\"username:\"+str(i[0][1]))\n",
        "        print(\"time:\"+str(i[1]))\n",
        "        print(\"comment:\"+str(i[3]))\n",
        "    p+=1"
      ],
      "execution_count": null,
      "outputs": []
    },
    {
      "cell_type": "code",
      "metadata": {
        "id": "1xoy6_PDuisx"
      },
      "source": [
        "# 電腦上面跑要安裝的套件 這邊好像沒辦法跑\n",
        "!pip install selenium\n",
        "!pip install driver"
      ],
      "execution_count": null,
      "outputs": []
    },
    {
      "cell_type": "code",
      "metadata": {
        "id": "7Pag8jnSjo6h"
      },
      "source": [
        "# 成功搜尋出東西，並印出搜尋的網頁 \n",
        "# 但是有點小缺陷 直接搜尋明確地標會無法使用 \n",
        "# 譬如搜尋夜市 廟口 公園 會挑出很多選項 這個是可行的\n",
        "# 但是搜尋類似 台北車站 基隆車站 明確標的物 無法使用 在想是不是要用判斷式去執行\n",
        "# ps:本機測試要下載chromedriver.exe放在同個py裡面 > https://chromedriver.chromium.org/\n",
        "# 有同學會在這邊測試的話 麻煩可以幫忙新增一下程式碼嗎XD\n",
        "from selenium.webdriver import Chrome\n",
        "from urllib.parse import quote\n",
        "import time\n",
        "\n",
        "a = input(\"請搜尋關鍵字: \")\n",
        "b = quote(a.encode(\"utf-8\"))\n",
        "\n",
        "driver=Chrome(\"./chromedriver\")\n",
        "driver.get(f\"https://www.google.com/maps/place?q={b}\")\n",
        "ps=driver.find_elements_by_class_name(\"a4gq8e-aVTXAb-haAclf-jRmmHf-hSRGPd\")\n",
        "\n",
        "for x in ps:\n",
        "    url=x.get_attribute(\"href\")\n",
        "    time.sleep(2)\n",
        "    print(url)"
      ],
      "execution_count": null,
      "outputs": []
    },
    {
      "cell_type": "code",
      "metadata": {
        "id": "s8UngIt01g1s"
      },
      "source": [
        "# 第七行先引用一個商家網頁做測試，順利印出評價但是沒辦法印出全文，也還要再想要怎麼和上面做結合。\n",
        "# 大家有好點子的話 可以再下面寫出來 或再LINE上面 解救我wwwwwwwwwwww\n",
        "from selenium.webdriver import Chrome\n",
        "from urllib.parse import quote\n",
        "import time\n",
        "\n",
        "driver=Chrome(\"./chromedriver\")\n",
        "driver.get(\"https://www.google.com/maps/place/%E5%9F%BA%E9%9A%86%E5%BB%9F%E5%8F%A3%E5%A4%9C%E5%B8%82/data=!4m5!3m4!1s0x345d4e3e159d9663:0x1d84dd13f992491e!8m2!3d25.1282439!4d121.7436385?authuser=0&hl=zh-TW&rclk=1\")\n",
        "time.sleep(2)\n",
        "driver.find_element_by_class_name(\"h0ySl-wcwwM-E70qVe-list\").click() # 點擊 進入評論網頁\n",
        "time.sleep(2)\n",
        "ps=driver.find_elements_by_class_name(\"ODSEW-ShBeI-text\")\n",
        "time.sleep(2)\n",
        "for sp in ps:\n",
        "    pp=sp.text\n",
        "    print(pp)"
      ],
      "execution_count": null,
      "outputs": []
    }
  ]
}